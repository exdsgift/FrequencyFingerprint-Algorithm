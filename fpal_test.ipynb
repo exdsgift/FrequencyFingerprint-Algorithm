{
 "cells": [
  {
   "cell_type": "code",
   "execution_count": 41,
   "metadata": {},
   "outputs": [],
   "source": [
    "import numpy as np\n",
    "import matplotlib.pyplot as plt\n",
    "\n",
    "import scipy\n",
    "from scipy import fft, signal\n",
    "from scipy.io.wavfile import read\n",
    "\n",
    "from scipy.fft import fftfreq\n",
    "\n",
    "# Database\n",
    "import glob\n",
    "from typing import List, Dict, Tuple\n",
    "from tqdm import tqdm\n",
    "import pickle"
   ]
  },
  {
   "cell_type": "code",
   "execution_count": 42,
   "metadata": {},
   "outputs": [],
   "source": [
    "def create_constellation(audio, Fs):\n",
    "    # Parameters\n",
    "    window_length_seconds = 0.5\n",
    "    window_length_samples = int(window_length_seconds * Fs)\n",
    "    window_length_samples += window_length_samples % 2\n",
    "    num_peaks = 15\n",
    "    # Pad the song to divide evenly into windows\n",
    "    amount_to_pad = window_length_samples - audio.size % window_length_samples\n",
    "    song_input = np.pad(audio, (0, amount_to_pad))\n",
    "    # Perform a short time fourier transform\n",
    "    frequencies, times, stft = signal.stft(\n",
    "        song_input, Fs, nperseg=window_length_samples, nfft=window_length_samples, return_onesided=True\n",
    "    )\n",
    "    constellation_map = []\n",
    "    for time_idx, window in enumerate(stft.T):\n",
    "        spectrum = abs(window)\n",
    "        peaks, props = signal.find_peaks(spectrum, prominence=0, distance=200)\n",
    "        n_peaks = min(num_peaks, len(peaks))\n",
    "        largest_peaks = np.argpartition(props[\"prominences\"], -n_peaks)[-n_peaks:]\n",
    "        for peak in peaks[largest_peaks]:\n",
    "            frequency = frequencies[peak]\n",
    "            constellation_map.append([time_idx, frequency])\n",
    "    return constellation_map"
   ]
  },
  {
   "cell_type": "code",
   "execution_count": 43,
   "metadata": {},
   "outputs": [],
   "source": [
    "# constellation_map = create_constellation(song, Fs)\n",
    "\n",
    "def create_hashes(constellation_map, song_id=None):\n",
    "    hashes = {}\n",
    "    # Use this for binning - 23_000 is slighlty higher than the maximum\n",
    "    # frequency that can be stored in the .wav files, 22.05 kHz\n",
    "    upper_frequency = 23_000 \n",
    "    frequency_bits = 10\n",
    "    # Iterate the constellation\n",
    "    for idx, (time, freq) in enumerate(constellation_map):\n",
    "        # Iterate the next 100 pairs to produce the combinatorial hashes\n",
    "        # When we produced the constellation before, it was sorted by time already\n",
    "        # So this finds the next n points in time (though they might occur at the same time)\n",
    "        for other_time, other_freq in constellation_map[idx : idx + 100]: \n",
    "            diff = other_time - time\n",
    "            # If the time difference between the pairs is too small or large\n",
    "            # ignore this set of pairs\n",
    "            if diff <= 1 or diff > 10:\n",
    "                continue\n",
    "            # Place the frequencies (in Hz) into a 1024 bins\n",
    "            freq_binned = freq / upper_frequency * (2 ** frequency_bits)\n",
    "            other_freq_binned = other_freq / upper_frequency * (2 ** frequency_bits)\n",
    "            # Produce a 32 bit hash\n",
    "            # Use bit shifting to move the bits to the correct location\n",
    "            hash = int(freq_binned) | (int(other_freq_binned) << 10) | (int(diff) << 20)\n",
    "            hashes[hash] = (time, song_id)\n",
    "    return hashes"
   ]
  },
  {
   "cell_type": "code",
   "execution_count": 44,
   "metadata": {},
   "outputs": [
    {
     "name": "stderr",
     "output_type": "stream",
     "text": [
      "100%|██████████| 22/22 [01:14<00:00,  3.39s/it]\n"
     ]
    }
   ],
   "source": [
    "import glob\n",
    "from typing import List, Dict, Tuple\n",
    "from tqdm import tqdm\n",
    "import pickle\n",
    "\n",
    "songs = glob.glob('converted/*.wav') # --> upload here the folder with our .wav files\n",
    "song_name_index = {}\n",
    "database: Dict[int, List[Tuple[int, int]]] = {}\n",
    "\n",
    "# Go through each song, using where they are alphabetically as an id\n",
    "for index, filename in enumerate(tqdm(sorted(songs))):\n",
    "    song_name_index[index] = filename\n",
    "    # Read the song, create a constellation and hashes\n",
    "    Fs, audio_input = read(filename)\n",
    "    constellation = create_constellation(audio_input, Fs)\n",
    "    hashes = create_hashes(constellation, index)\n",
    "    # For each hash, append it to the list for this hash\n",
    "    for hash, time_index_pair in hashes.items():\n",
    "        if hash not in database:\n",
    "            database[hash] = []\n",
    "        database[hash].append(time_index_pair)\n",
    "# Dump the database and list of songs as pickles\n",
    "with open(\"database_test.pickle\", 'wb') as db:\n",
    "    pickle.dump(database, db, pickle.HIGHEST_PROTOCOL)\n",
    "with open(\"song_test_index.pickle\", 'wb') as songs:\n",
    "    pickle.dump(song_name_index, songs, pickle.HIGHEST_PROTOCOL)"
   ]
  },
  {
   "cell_type": "code",
   "execution_count": 45,
   "metadata": {},
   "outputs": [
    {
     "name": "stdout",
     "output_type": "stream",
     "text": [
      "Song: converted/Travis Scott, HVME - Goosebumps (Remix - Official Audio).wav - Matches: 38662\n",
      "Song: converted/drivers license.wav - Matches: 32908\n",
      "Song: converted/Harry Styles - Treat People With Kindness (Official Audio).wav - Matches: 29290\n",
      "Song: converted/The Weeknd - Blinding Lights (Official Audio).wav - Matches: 29082\n",
      "Song: converted/Sweet Melody - Little Mix (Official Audio).wav - Matches: 26971\n",
      "Song: converted/Miley Cyrus & Dua Lipa - Prisoner (Audio).wav - Matches: 26299\n",
      "Song: converted/Martin Garrix - Pressure (ft. Tove Lo).wav - Matches: 25993\n",
      "Song: converted/Kygo, Donna Summer - Hot Stuff (Audio).wav - Matches: 25846\n",
      "Song: converted/Shawn Mendes, Justin Bieber - Monster.wav - Matches: 25792\n",
      "Song: converted/Bad Bunny, Jhay Cortez - DÁKITI (Audio).wav - Matches: 25256\n"
     ]
    }
   ],
   "source": [
    "# Load the database\n",
    "database = pickle.load(open('database_test.pickle', 'rb'))\n",
    "song_name_index = pickle.load(open(\"song_test_index.pickle\", \"rb\"))\n",
    "\n",
    "# Load a song\n",
    "Fs, audio_input = read(\"converted_memo/Goosebumps Remix MEMO.wav\")\n",
    "# Create the constellation and hashes\n",
    "constellation = create_constellation(audio_input, Fs)\n",
    "hashes = create_hashes(constellation, None)\n",
    "# For each hash in the song, check if there's a match in the database\n",
    "# There could be multiple matching tracks, so for each match, incrememnt a counter for that song ID by one\n",
    "matches_per_song = {}\n",
    "for hash, (sample_time, _) in hashes.items():\n",
    "    if hash in database:\n",
    "        matching_occurences = database[hash]\n",
    "        for source_time, song_id in matching_occurences:\n",
    "            if song_id not in matches_per_song:\n",
    "                matches_per_song[song_id] = 0\n",
    "            matches_per_song[song_id] += 1\n",
    "for song_id, num_matches in list(sorted(matches_per_song.items(), key=lambda x: x[1], reverse=True))[:10]:\n",
    "    print(f\"Song: {song_name_index[song_id]} - Matches: {num_matches}\")"
   ]
  },
  {
   "cell_type": "code",
   "execution_count": 46,
   "metadata": {},
   "outputs": [],
   "source": [
    "# Load a short recording with some background noise\n",
    "Fs, audio_input = read(\"converted_memo/Goosebumps Remix MEMO.wav\")\n",
    "# Create the constellation and hashes\n",
    "constellation = create_constellation(audio_input, Fs)\n",
    "hashes = create_hashes(constellation, None)\n",
    "# For each hash in the song, check if there's a match in the database\n",
    "# There could be multiple matches, so for each match:\n",
    "#   Append all of them to a hashmap based on the song id along with the time\n",
    "#   the hash occurs in the sample and at the source\n",
    "# In the end, matches_per_song is key'd by song ID with values being\n",
    "# lists of hashes, the \n",
    "matches_per_song = {}\n",
    "for hash, (sample_time, _) in hashes.items():\n",
    "    if hash in database:\n",
    "        matching_occurences = database[hash]\n",
    "        for source_time, song_id in matching_occurences:\n",
    "            if song_id not in matches_per_song:\n",
    "                matches_per_song[song_id] = []\n",
    "            matches_per_song[song_id].append((hash, sample_time, source_time))"
   ]
  },
  {
   "cell_type": "code",
   "execution_count": 47,
   "metadata": {},
   "outputs": [],
   "source": [
    "def score_hashes_against_database(hashes):\n",
    "    matches_per_song = {}\n",
    "    for hash, (sample_time, _) in hashes.items():\n",
    "        if hash in database:\n",
    "            matching_occurences = database[hash]\n",
    "            for source_time, song_index in matching_occurences:\n",
    "                if song_index not in matches_per_song:\n",
    "                    matches_per_song[song_index] = []\n",
    "                matches_per_song[song_index].append((hash, sample_time, source_time))\n",
    "            \n",
    "    # %%\n",
    "    scores = {}\n",
    "    for song_index, matches in matches_per_song.items():\n",
    "        song_scores_by_offset = {}\n",
    "        for hash, sample_time, source_time in matches:\n",
    "            delta = source_time - sample_time\n",
    "            if delta not in song_scores_by_offset:\n",
    "                song_scores_by_offset[delta] = 0\n",
    "            song_scores_by_offset[delta] += 1\n",
    "        max = (0, 0)\n",
    "        for offset, score in song_scores_by_offset.items():\n",
    "            if score > max[1]:\n",
    "                max = (offset, score)\n",
    "        \n",
    "        scores[song_index] = max\n",
    "    # Sort the scores for the user\n",
    "    scores = list(sorted(scores.items(), key=lambda x: x[1][1], reverse=True)) \n",
    "    \n",
    "    return scores"
   ]
  },
  {
   "cell_type": "code",
   "execution_count": 48,
   "metadata": {},
   "outputs": [],
   "source": [
    "def print_top_five(file_name):\n",
    "    # Load a short recording with some background noise\n",
    "    Fs, audio_input = read(file_name)\n",
    "    # Create the constellation and hashes\n",
    "    constellation = create_constellation(audio_input, Fs)\n",
    "    hashes = create_hashes(constellation, None)\n",
    "    scores = score_hashes_against_database(hashes)[:5]\n",
    "    for song_id, score in scores:\n",
    "        print(f\"{song_name_index[song_id]}: Score of {score[1]} at {score[0]}\")"
   ]
  },
  {
   "cell_type": "code",
   "execution_count": 49,
   "metadata": {},
   "outputs": [
    {
     "name": "stdout",
     "output_type": "stream",
     "text": [
      "Song: Travis Scott, HVME - Goosebumps (Remix)\n",
      "Match:\n",
      "converted/Travis Scott, HVME - Goosebumps (Remix - Official Audio).wav: Score of 1056 at 69\n",
      "converted/Martin Garrix - Pressure (ft. Tove Lo).wav: Score of 172 at 481\n",
      "converted/Miley Cyrus & Dua Lipa - Prisoner (Audio).wav: Score of 169 at 609\n",
      "converted/Sweet Melody - Little Mix (Official Audio).wav: Score of 150 at 740\n",
      "converted/The Weeknd - Blinding Lights (Official Audio).wav: Score of 148 at 719\n"
     ]
    }
   ],
   "source": [
    "print(\"Song: Travis Scott, HVME - Goosebumps (Remix)\")\n",
    "print('Match:')\n",
    "print_top_five(\"converted_memo/Goosebumps Remix MEMO.wav\")"
   ]
  },
  {
   "cell_type": "code",
   "execution_count": 50,
   "metadata": {},
   "outputs": [
    {
     "name": "stdout",
     "output_type": "stream",
     "text": [
      "Song: DJ Khaled ft. Drake - POPSTAR\n",
      "Match:\n",
      "converted/DJ Khaled ft. Drake - POPSTAR (Official Audio).wav: Score of 1400 at 7\n",
      "converted/Martin Garrix - Pressure (ft. Tove Lo).wav: Score of 167 at 413\n",
      "converted/Harry Styles - Treat People With Kindness (Official Audio).wav: Score of 145 at 638\n",
      "converted/The Kid LAROI - WITHOUT YOU (Official Audio).wav: Score of 140 at 558\n",
      "converted/Miley Cyrus & Dua Lipa - Prisoner (Audio).wav: Score of 138 at 598\n"
     ]
    }
   ],
   "source": [
    "print(\"Song: DJ Khaled ft. Drake - POPSTAR\")\n",
    "print('Match:')\n",
    "print_top_five(\"converted_memo/POPSTAR (feat. Drake) MEMO.wav\")"
   ]
  },
  {
   "cell_type": "code",
   "execution_count": 51,
   "metadata": {},
   "outputs": [
    {
     "name": "stdout",
     "output_type": "stream",
     "text": [
      "Song: The Weeknd - Save Your Tears\n",
      "Match:\n",
      "converted/The Weeknd - Save Your Tears (Official Audio).wav: Score of 427 at 14\n",
      "converted/Harry Styles - Watermelon Sugar (Official Audio).wav: Score of 212 at 612\n",
      "converted/The Kid LAROI - WITHOUT YOU (Official Audio).wav: Score of 199 at 540\n",
      "converted/DJ Khaled ft. Drake - POPSTAR (Official Audio).wav: Score of 196 at 741\n",
      "converted/Shawn Mendes, Justin Bieber - Monster.wav: Score of 161 at 604\n"
     ]
    }
   ],
   "source": [
    "print(\"Song: The Weeknd - Save Your Tears\")\n",
    "print('Match:')\n",
    "print_top_five(\"converted_memo/Save Your Tears MEMO.wav\")"
   ]
  }
 ],
 "metadata": {
  "kernelspec": {
   "display_name": "Python 3",
   "language": "python",
   "name": "python3"
  },
  "language_info": {
   "codemirror_mode": {
    "name": "ipython",
    "version": 3
   },
   "file_extension": ".py",
   "mimetype": "text/x-python",
   "name": "python",
   "nbconvert_exporter": "python",
   "pygments_lexer": "ipython3",
   "version": "3.11.0"
  }
 },
 "nbformat": 4,
 "nbformat_minor": 2
}
